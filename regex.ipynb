{
  "cells": [
    {
      "cell_type": "markdown",
      "metadata": {
        "id": "view-in-github",
        "colab_type": "text"
      },
      "source": [
        "<a href=\"https://colab.research.google.com/github/roshinys/pythonLearn/blob/main/regex.ipynb\" target=\"_parent\"><img src=\"https://colab.research.google.com/assets/colab-badge.svg\" alt=\"Open In Colab\"/></a>"
      ]
    },
    {
      "cell_type": "code",
      "source": [
        "#Regex Learning\n",
        "\n",
        "#importing lib\n",
        "import re"
      ],
      "metadata": {
        "id": "CXTwter-VoWG"
      },
      "execution_count": 1,
      "outputs": []
    },
    {
      "cell_type": "code",
      "source": [
        "'''9at Cat c9T mat bat rat hat\n",
        "abcdefghijklmnopqurtuvwxyz\n",
        "ABCDEFGHIJKLMNOPQRSTUVWXYZ\\s\n",
        "321-555-4321\n",
        "1234567890\n",
        "Ha HaHa\n",
        "MetaCharacters (Need to be escaped):\n",
        ". ^ $ * + ? { } [ ] \\ | ( )\n",
        "guptaabhishek.com\n",
        "abhishek-8765-gupta@yahoo.com\n",
        "abhi_gyupta@gamil.abc\n",
        "321-555-4321\n",
        "123.555.1234\n",
        "123*555*1234\n",
        "123.555.1234\n",
        "800-555-1234\n",
        "900-555-1234\n",
        "Mr. Schafer\n",
        "Mr Smith\n",
        "Ms Davis\n",
        "Mrs. Robinson\n",
        "Mr. T\n",
        "Mr_hello\n",
        "abhsihek.gupta@gmail.com\n",
        "abhishek-1234gupta@gmail.org\n",
        "abhishek@hotmail.net'''"
      ],
      "metadata": {
        "id": "t8nZ0eBFX6st",
        "outputId": "2abbb513-8ebe-40e1-ddc2-137dbd341b8a",
        "colab": {
          "base_uri": "https://localhost:8080/",
          "height": 70
        }
      },
      "execution_count": 2,
      "outputs": [
        {
          "output_type": "execute_result",
          "data": {
            "text/plain": [
              "'9at Cat c9T mat bat rat hat\\nabcdefghijklmnopqurtuvwxyz\\nABCDEFGHIJKLMNOPQRSTUVWXYZ\\\\s\\n321-555-4321\\n1234567890\\nHa HaHa\\nMetaCharacters (Need to be escaped):\\n. ^ $ * + ? { } [ ] \\\\ | ( )\\nguptaabhishek.com\\nabhishek-8765-gupta@yahoo.com\\nabhi_gyupta@gamil.abc\\n321-555-4321\\n123.555.1234\\n123*555*1234\\n123.555.1234\\n800-555-1234\\n900-555-1234\\nMr. Schafer\\nMr Smith\\nMs Davis\\nMrs. Robinson\\nMr. T\\nMr_hello\\nabhsihek.gupta@gmail.com\\nabhishek-1234gupta@gmail.org\\nabhishek@hotmail.net'"
            ],
            "application/vnd.google.colaboratory.intrinsic+json": {
              "type": "string"
            }
          },
          "metadata": {},
          "execution_count": 2
        }
      ]
    },
    {
      "cell_type": "code",
      "source": [
        "# Regular Expression pattern list\n",
        ". -> Matches anything except newline\n",
        "^ -> Matches the start of teh string\n",
        "$ -> Matches the end of the line\n",
        "[.] -> Matches any single character in the bracket\n",
        "[^.] -> Matches any single character not in the bracket\n",
        "* -> Matches 0 or more occurence of preceding expression\n",
        "+ -> Matches 1 or more occurence of preceding expression\n",
        "? -> Matches 0 or 1 occurence of preceding expression\n",
        "{n} -> Matches exactly n number of occurence of preceding expression\n",
        "{n, m} -> Matches minimum n and maximum m number of occurence of preceding expression\n",
        "x | y -> Matches either x or y\n",
        "\\d -> Matches digits\n",
        "\\D -> Matches non-digits\n",
        "\\w -> Matches Alphanumeric characters\n",
        "\\W -> Matches Non-Alphanumeric characters\n",
        "\\Z - Matches end of the string\n",
        "\\G - Matches point where last match finished.\n",
        "\\b - Matches the empty string, but only at the begining and end of the word.\n",
        "\\B - Matches non-word boundary\n",
        "\\n, \\t -> Matches new lines, carriage returns and tabs etc.\n",
        "\\s -> Matches white space\n",
        "\\S -> Matches non-white space\n",
        "\\A -> Matches the begining of the string\n",
        "\n",
        "(re) -> Groups regular expressions and remembers matched text\n",
        "(?:re) -> Groups regular expressions without remembering matched text. For example, the expression (?:x{6}) matches any multiple of six ‘x’ characters.\n",
        "(?#...) -> Comment"
      ],
      "metadata": {
        "id": "ySQHitgxX61h"
      },
      "execution_count": 3,
      "outputs": []
    },
    {
      "cell_type": "code",
      "source": [],
      "metadata": {
        "id": "T9ob_vo5X67m"
      },
      "execution_count": null,
      "outputs": []
    },
    {
      "cell_type": "code",
      "source": [],
      "metadata": {
        "id": "t_3BDDfiX7Dq"
      },
      "execution_count": null,
      "outputs": []
    }
  ],
  "metadata": {
    "colab": {
      "name": "Welcome To Colab",
      "provenance": [],
      "include_colab_link": true
    },
    "kernelspec": {
      "display_name": "Python 3",
      "name": "python3"
    }
  },
  "nbformat": 4,
  "nbformat_minor": 0
}